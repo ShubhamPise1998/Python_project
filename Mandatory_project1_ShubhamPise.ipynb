{
  "nbformat": 4,
  "nbformat_minor": 0,
  "metadata": {
    "colab": {
      "provenance": []
    },
    "kernelspec": {
      "name": "python3",
      "display_name": "Python 3"
    },
    "language_info": {
      "name": "python"
    }
  },
  "cells": [
    {
      "cell_type": "markdown",
      "source": [
        "Q1==> You are working in bank and you have given two lists of employees who worked in 2021. Employees names in list1 are Ramesh,Suresh,Mahesh,Ali,Jacob and \n",
        "sarita. List2 names Ali,Mukesh,Mahesh,Jacob,sai,sarita.Write a program to find common in both list.dont use inbuilt function"
      ],
      "metadata": {
        "id": "JRXUkp6s6Aqt"
      }
    },
    {
      "cell_type": "code",
      "source": [
        "list1=[\"Ramesh\", \"Suresh\", \"Mahesh\", \"Ali\", \"Jacob\", \"Sarita\"]\n",
        "list2=[\"Ali\", \"Mukesh\", \"Mahesh\", \"Jacob\", \"sai\", \"Sarita\"]\n",
        "\n",
        "list3=[]\n",
        "\n",
        "for i in list1:\n",
        "  if i in list2 and i not in list3:\n",
        "    list3.append(i)\n",
        "\n",
        "  \n",
        "print(\"The common employees are :\",list3)"
      ],
      "metadata": {
        "colab": {
          "base_uri": "https://localhost:8080/"
        },
        "id": "BiUiGymi6LCa",
        "outputId": "8359d8bb-602a-4630-ff99-2f505e0874f5"
      },
      "execution_count": 15,
      "outputs": [
        {
          "output_type": "stream",
          "name": "stdout",
          "text": [
            "The common employees are : ['Mahesh', 'Ali', 'Jacob', 'Sarita']\n"
          ]
        }
      ]
    },
    {
      "cell_type": "markdown",
      "source": [
        "Q2==> While entering data someone entered a few names as common string \"Ramesh suresh Mohit\".WAP to seperate all names and convert them into list.once \n",
        "covnerted add their age. Ramesh=25, Suresh=22, Mohit=26"
      ],
      "metadata": {
        "id": "C9Ud17TZGtJT"
      }
    },
    {
      "cell_type": "code",
      "source": [
        "stg=\"Ramesh Suresh Mohit\"\n",
        "list4=stg.split()\n",
        "\n",
        "ages=[25,22,26]\n",
        "\n",
        "list4_ages=dict(zip(list4,ages))\n",
        "\n",
        "print(list4_ages)"
      ],
      "metadata": {
        "colab": {
          "base_uri": "https://localhost:8080/"
        },
        "id": "gWEmM-jIOElp",
        "outputId": "2784cd62-359e-4840-908a-745488e3c782"
      },
      "execution_count": 3,
      "outputs": [
        {
          "output_type": "stream",
          "name": "stdout",
          "text": [
            "{'Ramesh': 25, 'Suresh': 22, 'Mohit': 26}\n"
          ]
        }
      ]
    },
    {
      "cell_type": "markdown",
      "source": [
        "Q3==> A few students from university has taken 3 exams\n",
        "\n",
        " Name=Sam,Jacy,Tom,steve\n",
        "\n",
        " python=25,26,29,28\n",
        "\n",
        "statistics=23,21,19,25\n",
        "\n",
        "sql=29,27,28,25\n",
        "\n",
        "WAP to calculate mean of all 3 tests and print highest mean value.\n",
        "\n",
        "also report who scored highest marks in python using programming construct"
      ],
      "metadata": {
        "id": "sL6y6n3UOJqj"
      }
    },
    {
      "cell_type": "code",
      "source": [
        "\n",
        "def toCheckAvg(a,b,c,d):\n",
        "  avg=(a+b+c+d)/4\n",
        "  return avg\n",
        "\n",
        "python_mean=toCheckAvg(25,26,29,28)\n",
        "\n",
        "statistics_mean=toCheckAvg(23,21,19,25)\n",
        "\n",
        "sql_mean=toCheckAvg(29,27,28,25)\n",
        "\n",
        "if python_mean > statistics_mean and python_mean > sql_mean:\n",
        "  print(\"python has highest mean value that is :\",python_mean)\n",
        "elif statistics_mean > python_mean and statistics_mean > sql_mean:\n",
        "  print(\"statistics has highest mean value that is :\",statistics_mean)\n",
        "else:\n",
        "  print(\"sql has highest mean value that is :\",sql_mean)\n",
        "\n",
        "name=\"Sam\",\"Jacy\",\"Tom\",\"steve\"\n",
        "python=25,26,29,28\n",
        "\n",
        "names_python_marks=dict(zip(name,python))\n",
        "#print(names_python_marks)\n",
        "max_marks=max(names_python_marks,key=names_python_marks.get)\n",
        "print(\"The students who scored highest marks in python is -\",max_marks)"
      ],
      "metadata": {
        "colab": {
          "base_uri": "https://localhost:8080/"
        },
        "id": "wRt_r0pPVd7l",
        "outputId": "1047c548-2abf-47f4-8c01-f5807ffadd69"
      },
      "execution_count": 5,
      "outputs": [
        {
          "output_type": "stream",
          "name": "stdout",
          "text": [
            "sql has highest mean value that is : 27.25\n",
            "The students who scored highest marks in python is - Tom\n"
          ]
        }
      ]
    },
    {
      "cell_type": "markdown",
      "source": [
        "Q4==>You are working in medical store. A patient came to your medical store and asked to buy 2 strips od paracetamol,3strips of Azithromycin and 5 strips of vitamin C. one strip of paracetamol costs Rs. 35,one strip of Azithromycin costs RS. 49 and one strip of vitamin C costs RS. 33. Patient gave you Rs.2000. Please tell us what is total cost of each medicine,total cost of all medicine and how much money you refunded to patient "
      ],
      "metadata": {
        "id": "mqMX1o1j5jPE"
      }
    },
    {
      "cell_type": "code",
      "source": [
        "total_paracetamol=2*35\n",
        "total_Azithromycin=3*49\n",
        "total_VitaminC=5*33 \n",
        "print(\"total cost of paracetamol is :\",total_paracetamol)\n",
        "print(\"total cost of Azithromycin is :\",total_Azithromycin)\n",
        "print(\"total cost ofVitamin C is :\",total_VitaminC)\n",
        "\n",
        "cost_of_all_medicine=total_paracetamol + total_Azithromycin + total_VitaminC\n",
        "print(\"total cost of all medicine is :\",cost_of_all_medicine)\n",
        "\n",
        "money_given_by_patient=2000\n",
        "\n",
        "refunded=money_given_by_patient - cost_of_all_medicine\n",
        "print(\"The money refunded to patient is :\",refunded)"
      ],
      "metadata": {
        "colab": {
          "base_uri": "https://localhost:8080/"
        },
        "id": "KJ3Yx3gC7D9O",
        "outputId": "f4e58bc5-b2a3-4ffe-8d79-9d9492c70697"
      },
      "execution_count": 6,
      "outputs": [
        {
          "output_type": "stream",
          "name": "stdout",
          "text": [
            "total cost of paracetamol is : 70\n",
            "total cost of Azithromycin is : 147\n",
            "total cost ofVitamin C is : 165\n",
            "total cost of all medicine is : 382\n",
            "The money refunded to patient is : 1618\n"
          ]
        }
      ]
    },
    {
      "cell_type": "markdown",
      "source": [
        "Q5==>Accept a sentence as input and find number of vowels in it.Assume sentence has no punctuation mark"
      ],
      "metadata": {
        "id": "Mv4VSipd9lKE"
      }
    },
    {
      "cell_type": "code",
      "source": [
        "def checkVowels(stg):\n",
        "  count=0\n",
        "  for i in stg:\n",
        "    if i in \"aeiouAEIOU\":\n",
        "      count+=1\n",
        "  print(count)\n",
        "\n",
        "checkVowels(\"I am learning Python\")\n",
        "\n"
      ],
      "metadata": {
        "colab": {
          "base_uri": "https://localhost:8080/"
        },
        "id": "AjtNks3E-ML9",
        "outputId": "3d77f565-f452-4e74-fabf-11d6f2793c55"
      },
      "execution_count": 7,
      "outputs": [
        {
          "output_type": "stream",
          "name": "stdout",
          "text": [
            "6\n"
          ]
        }
      ]
    },
    {
      "cell_type": "markdown",
      "source": [
        "Q6==>You have been appointed by the election commision to create a website.Your task is to find candidate is elligible or not for voting.if elligible your output should like \"Congrats! You are elligible\".Otherwise your output like \"Return after X years\""
      ],
      "metadata": {
        "id": "2V8NGeSU_prI"
      }
    },
    {
      "cell_type": "code",
      "source": [
        "age=int(input(\"Please enter your age\"))\n",
        "\n",
        "if age >= 18:\n",
        "  print(\"Congrats! You are elligible\")\n",
        "elif age < 18:\n",
        "  print(\"Return after\",18-age,\"years\")"
      ],
      "metadata": {
        "colab": {
          "base_uri": "https://localhost:8080/"
        },
        "id": "QEPyOxGUAnYy",
        "outputId": "8f78bc60-d14c-4be4-e09d-6d2cf81872cb"
      },
      "execution_count": 8,
      "outputs": [
        {
          "output_type": "stream",
          "name": "stdout",
          "text": [
            "Please enter your age18\n",
            "Congrats! You are elligible\n"
          ]
        }
      ]
    }
  ]
}